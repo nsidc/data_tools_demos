{
 "cells": [
  {
   "cell_type": "markdown",
   "id": "eeb0b1e9-d7dd-4f5d-9cc0-352ead4c8c4f",
   "metadata": {},
   "source": [
    "# Plotting Sea Ice Index Using Remote Data\n",
    "\n",
    "Here's a simple example of accessing Sea Ice Index data from NOAA@NSIDC using the python `pandas` package and plotting the September ice extent.  `pandas` will take a file path or a URL. \n",
    "\n",
    "> Valid URL schemes include http, ftp, s3, gs, and file. For file URLs, a host is expected. A local file could be: file://localhost/path/to/table.csv.\n",
    "\n",
    "The advantage here is that accessing data directly from NOAA@NSIDC ensures that it is up-to-date.  If you were following the download model, each time you want to make a new plot, you would have to download the data to ensure that the file is the more recent file available.\n",
    "\n",
    "In addition to plotting the September extent, we can add the regression line.  We use `sklearn.linear_model.LinearRegression` to do this."
   ]
  },
  {
   "cell_type": "markdown",
   "id": "22ff43c9-e886-43c9-adc9-8b8024740d6a",
   "metadata": {},
   "source": [
    "## A simple Remote Access Workflow"
   ]
  },
  {
   "cell_type": "code",
   "execution_count": 1,
   "id": "bcee219d-f52d-4a3f-b742-e02d61d67909",
   "metadata": {},
   "outputs": [],
   "source": [
    "import pandas as pd\n",
    "from sklearn.linear_model import LinearRegression"
   ]
  },
  {
   "cell_type": "markdown",
   "id": "0f9e17c7-87e8-4b3d-a97a-470319a7cfc9",
   "metadata": {},
   "source": [
    "### Loading the data\n",
    "\n",
    "We use `pandas.read_csv` method to access the data and load it directly into memory.  One _wrinkle_ is that, while the file extension suggests the data a CSV, they are in fact a hybrid of fixed-width and CSV; values are separated by both commas and whitespace.  To deal with this, we set the `skipinitialwhitespace` keyword to True.\n",
    "\n",
    "See **Making Sea Ice Index Data Interoperable and Reusable** for more information."
   ]
  },
  {
   "cell_type": "code",
   "execution_count": 2,
   "id": "ace4bba5-b210-4737-b302-823aff31fecb",
   "metadata": {},
   "outputs": [
    {
     "name": "stdout",
     "output_type": "stream",
     "text": [
      "CPU times: user 12 ms, sys: 4.14 ms, total: 16.1 ms\n",
      "Wall time: 3.76 s\n"
     ]
    },
    {
     "data": {
      "text/html": [
       "<div>\n",
       "<style scoped>\n",
       "    .dataframe tbody tr th:only-of-type {\n",
       "        vertical-align: middle;\n",
       "    }\n",
       "\n",
       "    .dataframe tbody tr th {\n",
       "        vertical-align: top;\n",
       "    }\n",
       "\n",
       "    .dataframe thead th {\n",
       "        text-align: right;\n",
       "    }\n",
       "</style>\n",
       "<table border=\"1\" class=\"dataframe\">\n",
       "  <thead>\n",
       "    <tr style=\"text-align: right;\">\n",
       "      <th></th>\n",
       "      <th>mo</th>\n",
       "      <th>data-type</th>\n",
       "      <th>region</th>\n",
       "      <th>extent</th>\n",
       "      <th>area</th>\n",
       "    </tr>\n",
       "    <tr>\n",
       "      <th>year</th>\n",
       "      <th></th>\n",
       "      <th></th>\n",
       "      <th></th>\n",
       "      <th></th>\n",
       "      <th></th>\n",
       "    </tr>\n",
       "  </thead>\n",
       "  <tbody>\n",
       "    <tr>\n",
       "      <th>1979</th>\n",
       "      <td>9</td>\n",
       "      <td>Goddard</td>\n",
       "      <td>N</td>\n",
       "      <td>7.05</td>\n",
       "      <td>4.58</td>\n",
       "    </tr>\n",
       "    <tr>\n",
       "      <th>1980</th>\n",
       "      <td>9</td>\n",
       "      <td>Goddard</td>\n",
       "      <td>N</td>\n",
       "      <td>7.67</td>\n",
       "      <td>4.87</td>\n",
       "    </tr>\n",
       "    <tr>\n",
       "      <th>1981</th>\n",
       "      <td>9</td>\n",
       "      <td>Goddard</td>\n",
       "      <td>N</td>\n",
       "      <td>7.14</td>\n",
       "      <td>4.44</td>\n",
       "    </tr>\n",
       "    <tr>\n",
       "      <th>1982</th>\n",
       "      <td>9</td>\n",
       "      <td>Goddard</td>\n",
       "      <td>N</td>\n",
       "      <td>7.30</td>\n",
       "      <td>4.43</td>\n",
       "    </tr>\n",
       "    <tr>\n",
       "      <th>1983</th>\n",
       "      <td>9</td>\n",
       "      <td>Goddard</td>\n",
       "      <td>N</td>\n",
       "      <td>7.39</td>\n",
       "      <td>4.70</td>\n",
       "    </tr>\n",
       "  </tbody>\n",
       "</table>\n",
       "</div>"
      ],
      "text/plain": [
       "      mo data-type region  extent  area\n",
       "year                                   \n",
       "1979   9   Goddard      N    7.05  4.58\n",
       "1980   9   Goddard      N    7.67  4.87\n",
       "1981   9   Goddard      N    7.14  4.44\n",
       "1982   9   Goddard      N    7.30  4.43\n",
       "1983   9   Goddard      N    7.39  4.70"
      ]
     },
     "execution_count": 2,
     "metadata": {},
     "output_type": "execute_result"
    }
   ],
   "source": [
    "%%time\n",
    "\n",
    "url = \"https://noaadata.apps.nsidc.org/NOAA/G02135/north/monthly/data/N_09_extent_v3.0.csv\"\n",
    "\n",
    "df = pd.read_csv(url, index_col=\"year\", skipinitialspace=True)\n",
    "df.head()"
   ]
  },
  {
   "cell_type": "markdown",
   "id": "c8b7ac78-868f-4204-b120-f5012a6c71be",
   "metadata": {},
   "source": [
    "### Make a plot\n",
    "\n",
    "Accessing the data remote takes a few seconds - the file is small.  We can then get on with the analysis, in this case plotting the data and calculating the regression line."
   ]
  },
  {
   "cell_type": "code",
   "execution_count": 3,
   "id": "758f6278-8d08-40c9-b7f9-b5c9dd081ca3",
   "metadata": {},
   "outputs": [
    {
     "data": {
      "text/plain": [
       "[<matplotlib.lines.Line2D at 0x7f2ede28ba70>]"
      ]
     },
     "execution_count": 3,
     "metadata": {},
     "output_type": "execute_result"
    },
    {
     "data": {
      "image/png": "[encoded data removed]",
      "text/plain": [
       "<Figure size 640x480 with 1 Axes>"
      ]
     },
     "metadata": {},
     "output_type": "display_data"
    }
   ],
   "source": [
    "x = df.extent.index.values.reshape(-1,1)\n",
    "y = df.extent.values\n",
    "model = LinearRegression().fit(x, y)\n",
    "yhat = model.predict(x)\n",
    "\n",
    "ax = df[\"extent\"].plot(marker='o', \n",
    "                       ylim=(0.,9.), ylabel=\"Extent [$10^6 \\\\mathrm{km}^2$]\", \n",
    "                       title=\"September Northern Hemisphere Sea Ice Extent\")\n",
    "ax.plot(x, yhat)\n"
   ]
  },
  {
   "cell_type": "markdown",
   "id": "d3d66e6f-64dd-4c4c-b3f9-203ec28c916a",
   "metadata": {},
   "source": [
    "## Making Sea Ice Index Data Interoperable and Reusable\n",
    "\n",
    "As noted above, one _wrinkle_ with the Sea Ice Index data used here is that, while the file extension suggests the data a CSV, they are in fact a hybrid of fixed-width and CSV; values are separated by both commas and whitespace.\n",
    "\n",
    "```\n",
    "year, mo,    data-type, region, extent,   area\n",
    "1979,  9,      Goddard,      N,   7.05,   4.58\n",
    "1980,  9,      Goddard,      N,   7.67,   4.87\n",
    "1981,  9,      Goddard,      N,   7.14,   4.44\n",
    "1982,  9,      Goddard,      N,   7.30,   4.43\n",
    "1983,  9,      Goddard,      N,   7.39,   4.70\n",
    "```\n",
    "\n",
    "If we assume the file is a standard CSV with a single character delimiter, which is generally expected for a csv, then column headings have whitespace.\n",
    "\n",
    "```\n",
    "df = pd.read_csv(url, index_col=\"year\")\n",
    "df.columns\n",
    "```\n",
    "```\n",
    "Index([' mo', '    data-type', ' region', ' extent', '   area'], dtype='object')\n",
    "```\n",
    "\n",
    "This can be easily fixed by setting the `skipinitialwhitespace` keyword to True but users need to be aware of this problem.\n",
    "\n",
    "While there is no standard for CSV files, most CSV readers expect the file to have a single delimiiter character and no spaces.  This is less readable for a human but makes the data more interoperable.\n",
    "\n",
    "This is better.\n",
    "```\n",
    "year,mo,data-type,region,extent,area\n",
    "1979,9,Goddard,N,7.05,4.58\n",
    "1980,9,Goddard,N,7.67,4.87\n",
    "1981,9,Goddard,N,7.14,4.44\n",
    "1982,9,Goddard,N,7.30,4.43\n",
    "1983,9,Goddard,N,7.39,4.70\n",
    "```\n"
   ]
  }
 ],
 "metadata": {
  "kernelspec": {
   "display_name": "Python 3 (ipykernel)",
   "language": "python",
   "name": "python3"
  },
  "language_info": {
   "codemirror_mode": {
    "name": "ipython",
    "version": 3
   },
   "file_extension": ".py",
   "mimetype": "text/x-python",
   "name": "python",
   "nbconvert_exporter": "python",
   "pygments_lexer": "ipython3",
   "version": "3.12.2"
  }
 },
 "nbformat": 4,
 "nbformat_minor": 5
}
